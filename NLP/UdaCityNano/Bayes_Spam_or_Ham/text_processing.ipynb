{
 "cells": [
  {
   "cell_type": "markdown",
   "metadata": {},
   "source": [
    "# Text Processing\n",
    "\n",
    "## Capturing Text Data\n",
    "\n",
    "### Plain Text"
   ]
  },
  {
   "cell_type": "code",
   "execution_count": 1,
   "metadata": {},
   "outputs": [
    {
     "name": "stdout",
     "output_type": "stream",
     "text": [
      "Hieroglyphic writing dates from c. 3000 BC, and is composed of hundreds of symbols. A hieroglyph can represent a word, a sound, or a silent determinative; and the same symbol can serve different purposes in different contexts. Hieroglyphs were a formal script, used on stone monuments and in tombs, that could be as detailed as individual works of art.\n",
      "\n"
     ]
    }
   ],
   "source": [
    "import os\n",
    "\n",
    "# Read in a plain text file\n",
    "with open(os.path.join(\"data\", \"hieroglyph.txt\"), \"r\") as f:\n",
    "    text = f.read()\n",
    "    print(text)"
   ]
  },
  {
   "cell_type": "markdown",
   "metadata": {},
   "source": [
    "### Tabular Data"
   ]
  },
  {
   "cell_type": "code",
   "execution_count": 2,
   "metadata": {
    "scrolled": true
   },
   "outputs": [
    {
     "data": {
      "text/html": [
       "<div>\n",
       "<style scoped>\n",
       "    .dataframe tbody tr th:only-of-type {\n",
       "        vertical-align: middle;\n",
       "    }\n",
       "\n",
       "    .dataframe tbody tr th {\n",
       "        vertical-align: top;\n",
       "    }\n",
       "\n",
       "    .dataframe thead th {\n",
       "        text-align: right;\n",
       "    }\n",
       "</style>\n",
       "<table border=\"1\" class=\"dataframe\">\n",
       "  <thead>\n",
       "    <tr style=\"text-align: right;\">\n",
       "      <th></th>\n",
       "      <th>publisher</th>\n",
       "      <th>title</th>\n",
       "    </tr>\n",
       "  </thead>\n",
       "  <tbody>\n",
       "    <tr>\n",
       "      <th>0</th>\n",
       "      <td>Livemint</td>\n",
       "      <td>fed's charles plosser sees high bar for change...</td>\n",
       "    </tr>\n",
       "    <tr>\n",
       "      <th>1</th>\n",
       "      <td>IFA Magazine</td>\n",
       "      <td>us open: stocks fall after fed official hints ...</td>\n",
       "    </tr>\n",
       "    <tr>\n",
       "      <th>2</th>\n",
       "      <td>IFA Magazine</td>\n",
       "      <td>fed risks falling 'behind the curve', charles ...</td>\n",
       "    </tr>\n",
       "    <tr>\n",
       "      <th>3</th>\n",
       "      <td>Moneynews</td>\n",
       "      <td>fed's plosser: nasty weather has curbed job gr...</td>\n",
       "    </tr>\n",
       "    <tr>\n",
       "      <th>4</th>\n",
       "      <td>NASDAQ</td>\n",
       "      <td>plosser: fed may have to accelerate tapering pace</td>\n",
       "    </tr>\n",
       "  </tbody>\n",
       "</table>\n",
       "</div>"
      ],
      "text/plain": [
       "      publisher                                              title\n",
       "0      Livemint  fed's charles plosser sees high bar for change...\n",
       "1  IFA Magazine  us open: stocks fall after fed official hints ...\n",
       "2  IFA Magazine  fed risks falling 'behind the curve', charles ...\n",
       "3     Moneynews  fed's plosser: nasty weather has curbed job gr...\n",
       "4        NASDAQ  plosser: fed may have to accelerate tapering pace"
      ]
     },
     "execution_count": 2,
     "metadata": {},
     "output_type": "execute_result"
    }
   ],
   "source": [
    "import pandas as pd\n",
    "\n",
    "# Extract text column from a dataframe\n",
    "df = pd.read_csv(os.path.join(\"data\", \"news.csv\"))\n",
    "df.head()[['publisher', 'title']]\n",
    "\n",
    "# Convert text column to lowercase\n",
    "df['title'] = df['title'].str.lower()\n",
    "df.head()[['publisher', 'title']]"
   ]
  },
  {
   "cell_type": "markdown",
   "metadata": {},
   "source": [
    "### Online Resource"
   ]
  },
  {
   "cell_type": "code",
   "execution_count": 3,
   "metadata": {
    "scrolled": true
   },
   "outputs": [
    {
     "name": "stdout",
     "output_type": "stream",
     "text": [
      "{\n",
      "    \"success\": {\n",
      "        \"total\": 1\n",
      "    },\n",
      "    \"contents\": {\n",
      "        \"quotes\": [\n",
      "            {\n",
      "                \"quote\": \"Don't be tempted to break momentum\\u2014work through it.\",\n",
      "                \"author\": \"Lorii Myers\",\n",
      "                \"length\": \"58\",\n",
      "                \"tags\": [\n",
      "                    \"inspire\",\n",
      "                    \"momentum\"\n",
      "                ],\n",
      "                \"category\": \"inspire\",\n",
      "                \"title\": \"Inspiring Quote of the day\",\n",
      "                \"date\": \"2019-01-31\",\n",
      "                \"id\": null\n",
      "            }\n",
      "        ],\n",
      "        \"copyright\": \"2017-19 theysaidso.com\"\n",
      "    }\n",
      "}\n",
      "Don't be tempted to break momentum—work through it. \n",
      "-- Lorii Myers\n"
     ]
    }
   ],
   "source": [
    "import requests\n",
    "import json\n",
    "\n",
    "# Fetch data from a REST API\n",
    "r = requests.get(\n",
    "    \"https://quotes.rest/qod.json\")\n",
    "res = r.json()\n",
    "print(json.dumps(res, indent=4))\n",
    "\n",
    "# Extract relevant object and field\n",
    "q = res[\"contents\"][\"quotes\"][0]\n",
    "print(q[\"quote\"], \"\\n--\", q[\"author\"])"
   ]
  },
  {
   "cell_type": "markdown",
   "metadata": {},
   "source": [
    "## Cleaning"
   ]
  },
  {
   "cell_type": "code",
   "execution_count": 4,
   "metadata": {
    "scrolled": true
   },
   "outputs": [
    {
     "name": "stdout",
     "output_type": "stream",
     "text": [
      "<html op=\"news\"><head><meta name=\"referrer\" content=\"origin\"><meta name=\"viewport\" content=\"width=device-width, initial-scale=1.0\"><link rel=\"stylesheet\" type=\"text/css\" href=\"news.css?huDC1fNogcgHwQ4dQ72q\">\n",
      "            <link rel=\"shortcut icon\" href=\"favicon.ico\">\n",
      "          <link rel=\"alternate\" type=\"application/rss+xml\" title=\"RSS\" href=\"rss\">\n",
      "        <title>Hacker News</title></head><body><center><table id=\"hnmain\" border=\"0\" cellpadding=\"0\" cellspacing=\"0\" width=\"85%\" bgcolor=\"#f6f6ef\">\n",
      "        <tr><td bgcolor=\"#ff6600\"><table border=\"0\" cellpadding=\"0\" cellspacing=\"0\" width=\"100%\" style=\"padding:2px\"><tr><td style=\"width:18px;padding-right:4px\"><a href=\"https://news.ycombinator.com\"><img src=\"y18.gif\" width=\"18\" height=\"18\" style=\"border:1px white solid;\"></a></td>\n",
      "                  <td style=\"line-height:12pt; height:10px;\"><span class=\"pagetop\"><b class=\"hnname\"><a href=\"news\">Hacker News</a></b>\n",
      "              <a href=\"newest\">new</a> | <a href=\"newcomments\">comments</a> | <a href=\"ask\">ask</a> | <a href=\"show\">show</a> | <a href=\"jobs\">jobs</a> | <a href=\"submit\">submit</a>            </span></td><td style=\"text-align:right;padding-right:4px;\"><span class=\"pagetop\">\n",
      "                              <a href=\"login?goto=news\">login</a>\n",
      "                          </span></td>\n",
      "              </tr></table></td></tr>\n",
      "<tr id=\"pagespace\" title=\"\" style=\"height:10px\"></tr><tr><td><table border=\"0\" cellpadding=\"0\" cellspacing=\"0\" class=\"itemlist\">\n",
      "              <tr class='athing' id='19044034'>\n",
      "      <td align=\"right\" valign=\"top\" class=\"title\"><span class=\"rank\">1.</span></td>      <td valign=\"top\" class=\"votelinks\"><center><a id='up_19044034' href='vote?id=19044034&amp;how=up&amp;goto=news'><div class='votearrow' title='upvote'></div></a></center></td><td class=\"title\"><a href=\"https://www.reuters.com/article/us-iran-usa-sanctions-eu/germany-france-britain-to-launch-mechanism-for-trade-with-iran-idUSKCN1PP0K3\" class=\"storylink\">Germany, France, Britain to Launch Mechanism for Trade with Iran</a><span class=\"sitebit comhead\"> (<a href=\"from?site=reuters.com\"><span class=\"sitestr\">reuters.com</span></a>)</span></td></tr><tr><td colspan=\"2\"></td><td class=\"subtext\">\n",
      "        <span class=\"score\" id=\"score_19044034\">107 points</span> by <a href=\"user?id=betahiker\" class=\"hnuser\">betahiker</a> <span class=\"age\"><a href=\"item?id=19044034\">1 hour ago</a></span> <span id=\"unv_19044034\"></span> | <a href=\"hide?id=19044034&amp;goto=news\">hide</a> | <a href=\"item?id=19044034\">46&nbsp;comments</a>              </td></tr>\n",
      "      <tr class=\"spacer\" style=\"height:5px\"></tr>\n",
      "                <tr class='athing' id='19044282'>\n",
      "      <td align=\"right\" valign=\"top\" class=\"title\"><span class=\"rank\">2.</span></td>      <td valign=\"top\" class=\"votelinks\"><center><a id='up_19044282' href='vote?id=19044282&amp;how=up&amp;goto=news'><div class='votearrow' title='upvote'></div></a></center></td><td class=\"title\"><a href=\"https://www.nytimes.com/2019/01/31/opinion/ai-bias-healthcare.html\" class=\"storylink\">A.I. Could Worsen Health Disparities</a><span class=\"sitebit comhead\"> (<a href=\"from?site=nytimes.com\"><span class=\"sitestr\">nytimes.com</span></a>)</span></td></tr><tr><td colspan=\"2\"></td><td class=\"subtext\">\n",
      "        <span class=\"score\" id=\"score_19044282\">8 points</span> by <a href=\"user?id=pseudolus\" class=\"hnuser\">pseudolus</a> <span class=\"age\"><a href=\"item?id=19044282\">39 minutes ago</a></span> <span id=\"unv_19044282\"></span> | <a href=\"hide?id=19044282&amp;goto=news\">hide</a> | <a href=\"item?id=19044282\">1&nbsp;comment</a>              </td></tr>\n",
      "      <tr class=\"spacer\" style=\"height:5px\"></tr>\n",
      "                <tr class='athing' id='19041303'>\n",
      "      <td align=\"right\" valign=\"top\" class=\"title\"><span class=\"rank\">3.</span></td>      <td valign=\"top\" class=\"votelinks\"><center><a id='up_19041303' href='vote?id=19041303&amp;how=up&amp;goto=news'><div class='votearrow' title='upvote'></div></a></center></td><td class=\"title\"><a href=\"https://www.wsj.com/articles/u-s-changes-visa-process-for-high-skilled-workers-11548879868\" class=\"storylink\">U.S. Changes Visa Process for High-Skilled Workers</a><span class=\"sitebit comhead\"> (<a href=\"from?site=wsj.com\"><span class=\"sitestr\">wsj.com</span></a>)</span></td></tr><tr><td colspan=\"2\"></td><td class=\"subtext\">\n",
      "        <span class=\"score\" id=\"score_19041303\">325 points</span> by <a href=\"user?id=godelmachine\" class=\"hnuser\">godelmachine</a> <span class=\"age\"><a href=\"item?id=19041303\">12 hours ago</a></span> <span id=\"unv_19041303\"></span> | <a href=\"hide?id=19041303&amp;goto=news\">hide</a> | <a href=\"item?id=19041303\">432&nbsp;comments</a>              </td></tr>\n",
      "      <tr class=\"spacer\" style=\"height:5px\"></tr>\n",
      "                <tr class='athing' id='19043816'>\n",
      "      <td align=\"right\" valign=\"top\" class=\"title\"><span class=\"rank\">4.</span></td>      <td valign=\"top\" class=\"votelinks\"><center><a id='up_19043816' href='vote?id=19043816&amp;how=up&amp;goto=news'><div class='votearrow' title='upvote'></div></a></center></td><td class=\"title\"><a href=\"https://blog.racket-lang.org/2019/01/racket-v7-2.html\" class=\"storylink\">Racket v7.2</a><span class=\"sitebit comhead\"> (<a href=\"from?site=racket-lang.org\"><span class=\"sitestr\">racket-lang.org</span></a>)</span></td></tr><tr><td colspan=\"2\"></td><td class=\"subtext\">\n",
      "        <span class=\"score\" id=\"score_19043816\">61 points</span> by <a href=\"user?id=ethelward\" class=\"hnuser\">ethelward</a> <span class=\"age\"><a href=\"item?id=19043816\">2 hours ago</a></span> <span id=\"unv_19043816\"></span> | <a href=\"hide?id=19043816&amp;goto=news\">hide</a> | <a href=\"item?id=19043816\">12&nbsp;comments</a>              </td></tr>\n",
      "      <tr class=\"spacer\" style=\"height:5px\"></tr>\n",
      "                <tr class='athing' id='19044340'>\n",
      "      <td align=\"right\" valign=\"top\" class=\"title\"><span class=\"rank\">5.</span></td>      <td valign=\"top\" class=\"votelinks\"><center><a id='up_19044340' href='vote?id=19044340&amp;how=up&amp;goto=news'><div class='votearrow' title='upvote'></div></a></center></td><td class=\"title\"><a href=\"https://lwn.net/Articles/776688/\" class=\"storylink\" rel=\"nofollow\">A proposed API for full-memory encryption</a><span class=\"sitebit comhead\"> (<a href=\"from?site=lwn.net\"><span class=\"sitestr\">lwn.net</span></a>)</span></td></tr><tr><td colspan=\"2\"></td><td class=\"subtext\">\n",
      "        <span class=\"score\" id=\"score_19044340\">3 points</span> by <a href=\"user?id=l2dy\" class=\"hnuser\">l2dy</a> <span class=\"age\"><a href=\"item?id=19044340\">22 minutes ago</a></span> <span id=\"unv_19044340\"></span> | <a href=\"hide?id=19044340&amp;goto=news\">hide</a> | <a href=\"item?id=19044340\">discuss</a>              </td></tr>\n",
      "      <tr class=\"spacer\" style=\"height:5px\"></tr>\n",
      "                <tr class='athing' id='19042850'>\n",
      "      <td align=\"right\" valign=\"top\" class=\"title\"><span class=\"rank\">6.</span></td>      <td valign=\"top\" class=\"votelinks\"><center><a id='up_19042850' href='vote?id=19042850&amp;how=up&amp;goto=news'><div class='votearrow' title='upvote'></div></a></center></td><td class=\"title\"><a href=\"https://nationalinterest.org/blog/the-buzz/fact-the-kgb-shipped-sidewinder-missile-by-mail-moscow-21673\" class=\"storylink\">A KGB agent shipped a Sidewinder missile by mail to Moscow (2017)</a><span class=\"sitebit comhead\"> (<a href=\"from?site=nationalinterest.org\"><span class=\"sitestr\">nationalinterest.org</span></a>)</span></td></tr><tr><td colspan=\"2\"></td><td class=\"subtext\">\n",
      "        <span class=\"score\" id=\"score_19042850\">66 points</span> by <a href=\"user?id=rishabhd\" class=\"hnuser\">rishabhd</a> <span class=\"age\"><a href=\"item?id=19042850\">6 hours ago</a></span> <span id=\"unv_19042850\"></span> | <a href=\"hide?id=19042850&amp;goto=news\">hide</a> | <a href=\"item?id=19042850\">14&nbsp;comments</a>              </td></tr>\n",
      "      <tr class=\"spacer\" style=\"height:5px\"></tr>\n",
      "                <tr class='athing' id='19031588'>\n",
      "      <td align=\"right\" valign=\"top\" class=\"title\"><span class=\"rank\">7.</span></td>      <td valign=\"top\" class=\"votelinks\"><center><a id='up_19031588' href='vote?id=19031588&amp;how=up&amp;goto=news'><div class='votearrow' title='upvote'></div></a></center></td><td class=\"title\"><a href=\"https://www.wired.com/story/mastermind-excerpt/\" class=\"storylink\">A Coder Who Became a Crime Boss</a><span class=\"sitebit comhead\"> (<a href=\"from?site=wired.com\"><span class=\"sitestr\">wired.com</span></a>)</span></td></tr><tr><td colspan=\"2\"></td><td class=\"subtext\">\n",
      "        <span class=\"score\" id=\"score_19031588\">45 points</span> by <a href=\"user?id=Elof\" class=\"hnuser\">Elof</a> <span class=\"age\"><a href=\"item?id=19031588\">4 hours ago</a></span> <span id=\"unv_19031588\"></span> | <a href=\"hide?id=19031588&amp;goto=news\">hide</a> | <a href=\"item?id=19031588\">12&nbsp;comments</a>              </td></tr>\n",
      "      <tr class=\"spacer\" style=\"height:5px\"></tr>\n",
      "                <tr class='athing' id='19039525'>\n",
      "      <td align=\"right\" valign=\"top\" class=\"title\"><span class=\"rank\">8.</span></td>      <td valign=\"top\" class=\"votelinks\"><center><a id='up_19039525' href='vote?id=19039525&amp;how=up&amp;goto=news'><div class='votearrow' title='upvote'></div></a></center></td><td class=\"title\"><a href=\"https://arxiv.org/abs/1807.08416\" class=\"storylink\">Some Fundamental Theorems in Mathematics</a><span class=\"sitebit comhead\"> (<a href=\"from?site=arxiv.org\"><span class=\"sitestr\">arxiv.org</span></a>)</span></td></tr><tr><td colspan=\"2\"></td><td class=\"subtext\">\n",
      "        <span class=\"score\" id=\"score_19039525\">344 points</span> by <a href=\"user?id=postit\" class=\"hnuser\">postit</a> <span class=\"age\"><a href=\"item?id=19039525\">16 hours ago</a></span> <span id=\"unv_19039525\"></span> | <a href=\"hide?id=19039525&amp;goto=news\">hide</a> | <a href=\"item?id=19039525\">54&nbsp;comments</a>              </td></tr>\n",
      "      <tr class=\"spacer\" style=\"height:5px\"></tr>\n",
      "                <tr class='athing' id='19038374'>\n",
      "      <td align=\"right\" valign=\"top\" class=\"title\"><span class=\"rank\">9.</span></td>      <td valign=\"top\" class=\"votelinks\"><center><a id='up_19038374' href='vote?id=19038374&amp;how=up&amp;goto=news'><div class='votearrow' title='upvote'></div></a></center></td><td class=\"title\"><a href=\"https://www.statisticsdonewrong.com\" class=\"storylink\">Statistics Done Wrong</a><span class=\"sitebit comhead\"> (<a href=\"from?site=statisticsdonewrong.com\"><span class=\"sitestr\">statisticsdonewrong.com</span></a>)</span></td></tr><tr><td colspan=\"2\"></td><td class=\"subtext\">\n",
      "        <span class=\"score\" id=\"score_19038374\">420 points</span> by <a href=\"user?id=lawlorino\" class=\"hnuser\">lawlorino</a> <span class=\"age\"><a href=\"item?id=19038374\">17 hours ago</a></span> <span id=\"unv_19038374\"></span> | <a href=\"hide?id=19038374&amp;goto=news\">hide</a> | <a href=\"item?id=19038374\">38&nbsp;comments</a>              </td></tr>\n",
      "      <tr class=\"spacer\" style=\"height:5px\"></tr>\n",
      "                <tr class='athing' id='19043248'>\n",
      "      <td align=\"right\" valign=\"top\" class=\"title\"><span class=\"rank\">10.</span></td>      <td valign=\"top\" class=\"votelinks\"><center><a id='up_19043248' href='vote?id=19043248&amp;how=up&amp;goto=news'><div class='votearrow' title='upvote'></div></a></center></td><td class=\"title\"><a href=\"http://eurydice13.com/2019/01/how-to-prepare-for-and-run-a-design-thinking-gamestorming-creative-workshop-and-what-to-do-with-the-outputs-too/\" class=\"storylink\">How to prepare a Design Thinking workshop for 80 people</a><span class=\"sitebit comhead\"> (<a href=\"from?site=eurydice13.com\"><span class=\"sitestr\">eurydice13.com</span></a>)</span></td></tr><tr><td colspan=\"2\"></td><td class=\"subtext\">\n",
      "        <span class=\"score\" id=\"score_19043248\">32 points</span> by <a href=\"user?id=ggeorgovassilis\" class=\"hnuser\">ggeorgovassilis</a> <span class=\"age\"><a href=\"item?id=19043248\">5 hours ago</a></span> <span id=\"unv_19043248\"></span> | <a href=\"hide?id=19043248&amp;goto=news\">hide</a> | <a href=\"item?id=19043248\">14&nbsp;comments</a>              </td></tr>\n",
      "      <tr class=\"spacer\" style=\"height:5px\"></tr>\n",
      "                <tr class='athing' id='19039593'>\n",
      "      <td align=\"right\" valign=\"top\" class=\"title\"><span class=\"rank\">11.</span></td>      <td valign=\"top\" class=\"votelinks\"><center><a id='up_19039593' href='vote?id=19039593&amp;how=up&amp;goto=news'><div class='votearrow' title='upvote'></div></a></center></td><td class=\"title\"><a href=\"https://techcrunch.com/2019/01/30/facebook-earnings-q4-2018/\" class=\"storylink\">Facebook shares shoot up after strong Q4 earnings despite data breach</a><span class=\"sitebit comhead\"> (<a href=\"from?site=techcrunch.com\"><span class=\"sitestr\">techcrunch.com</span></a>)</span></td></tr><tr><td colspan=\"2\"></td><td class=\"subtext\">\n",
      "        <span class=\"score\" id=\"score_19039593\">254 points</span> by <a href=\"user?id=deanmoriarty\" class=\"hnuser\">deanmoriarty</a> <span class=\"age\"><a href=\"item?id=19039593\">15 hours ago</a></span> <span id=\"unv_19039593\"></span> | <a href=\"hide?id=19039593&amp;goto=news\">hide</a> | <a href=\"item?id=19039593\">180&nbsp;comments</a>              </td></tr>\n",
      "      <tr class=\"spacer\" style=\"height:5px\"></tr>\n",
      "                <tr class='athing' id='19038327'>\n",
      "      <td align=\"right\" valign=\"top\" class=\"title\"><span class=\"rank\">12.</span></td>      <td valign=\"top\" class=\"votelinks\"><center><a id='up_19038327' href='vote?id=19038327&amp;how=up&amp;goto=news'><div class='votearrow' title='upvote'></div></a></center></td><td class=\"title\"><a href=\"https://jarredsumner.com/codeblog/\" class=\"storylink\">Why isn't the internet more fun and weird?</a><span class=\"sitebit comhead\"> (<a href=\"from?site=jarredsumner.com\"><span class=\"sitestr\">jarredsumner.com</span></a>)</span></td></tr><tr><td colspan=\"2\"></td><td class=\"subtext\">\n",
      "        <span class=\"score\" id=\"score_19038327\">1288 points</span> by <a href=\"user?id=firloop\" class=\"hnuser\">firloop</a> <span class=\"age\"><a href=\"item?id=19038327\">17 hours ago</a></span> <span id=\"unv_19038327\"></span> | <a href=\"hide?id=19038327&amp;goto=news\">hide</a> | <a href=\"item?id=19038327\">501&nbsp;comments</a>              </td></tr>\n",
      "      <tr class=\"spacer\" style=\"height:5px\"></tr>\n",
      "                <tr class='athing' id='19034468'>\n",
      "      <td align=\"right\" valign=\"top\" class=\"title\"><span class=\"rank\">13.</span></td>      <td valign=\"top\" class=\"votelinks\"><center><a id='up_19034468' href='vote?id=19034468&amp;how=up&amp;goto=news'><div class='votearrow' title='upvote'></div></a></center></td><td class=\"title\"><a href=\"https://geneticliteracyproject.org/2019/01/29/how-germs-and-ancient-migration-help-explain-our-world-of-haves-and-have-nots/\" class=\"storylink\">Germs and ancient migrations help explain our world of haves and have nots</a><span class=\"sitebit comhead\"> (<a href=\"from?site=geneticliteracyproject.org\"><span class=\"sitestr\">geneticliteracyproject.org</span></a>)</span></td></tr><tr><td colspan=\"2\"></td><td class=\"subtext\">\n",
      "        <span class=\"score\" id=\"score_19034468\">12 points</span> by <a href=\"user?id=anastalaz\" class=\"hnuser\">anastalaz</a> <span class=\"age\"><a href=\"item?id=19034468\">3 hours ago</a></span> <span id=\"unv_19034468\"></span> | <a href=\"hide?id=19034468&amp;goto=news\">hide</a> | <a href=\"item?id=19034468\">2&nbsp;comments</a>              </td></tr>\n",
      "      <tr class=\"spacer\" style=\"height:5px\"></tr>\n",
      "                <tr class='athing' id='19041021'>\n",
      "      <td align=\"right\" valign=\"top\" class=\"title\"><span class=\"rank\">14.</span></td>      <td valign=\"top\" class=\"votelinks\"><center><a id='up_19041021' href='vote?id=19041021&amp;how=up&amp;goto=news'><div class='votearrow' title='upvote'></div></a></center></td><td class=\"title\"><a href=\"https://www.nytimes.com/2019/01/30/health/facebook-psychology-health.html\" class=\"storylink\">This is Your Brain Off Facebook - study offers glimpse of unplugging</a><span class=\"sitebit comhead\"> (<a href=\"from?site=nytimes.com\"><span class=\"sitestr\">nytimes.com</span></a>)</span></td></tr><tr><td colspan=\"2\"></td><td class=\"subtext\">\n",
      "        <span class=\"score\" id=\"score_19041021\">105 points</span> by <a href=\"user?id=pseudolus\" class=\"hnuser\">pseudolus</a> <span class=\"age\"><a href=\"item?id=19041021\">13 hours ago</a></span> <span id=\"unv_19041021\"></span> | <a href=\"hide?id=19041021&amp;goto=news\">hide</a> | <a href=\"item?id=19041021\">44&nbsp;comments</a>              </td></tr>\n",
      "      <tr class=\"spacer\" style=\"height:5px\"></tr>\n",
      "                <tr class='athing' id='19031341'>\n",
      "      <td align=\"right\" valign=\"top\" class=\"title\"><span class=\"rank\">15.</span></td>      <td valign=\"top\" class=\"votelinks\"><center><a id='up_19031341' href='vote?id=19031341&amp;how=up&amp;goto=news'><div class='votearrow' title='upvote'></div></a></center></td><td class=\"title\"><a href=\"http://bactra.org/notebooks/godels-theorem.html\" class=\"storylink\">Gödel's Theorem</a><span class=\"sitebit comhead\"> (<a href=\"from?site=bactra.org\"><span class=\"sitestr\">bactra.org</span></a>)</span></td></tr><tr><td colspan=\"2\"></td><td class=\"subtext\">\n",
      "        <span class=\"score\" id=\"score_19031341\">115 points</span> by <a href=\"user?id=bookofjoe\" class=\"hnuser\">bookofjoe</a> <span class=\"age\"><a href=\"item?id=19031341\">13 hours ago</a></span> <span id=\"unv_19031341\"></span> | <a href=\"hide?id=19031341&amp;goto=news\">hide</a> | <a href=\"item?id=19031341\">71&nbsp;comments</a>              </td></tr>\n",
      "      <tr class=\"spacer\" style=\"height:5px\"></tr>\n",
      "                <tr class='athing' id='19038258'>\n",
      "      <td align=\"right\" valign=\"top\" class=\"title\"><span class=\"rank\">16.</span></td>      <td valign=\"top\" class=\"votelinks\"><center><a id='up_19038258' href='vote?id=19038258&amp;how=up&amp;goto=news'><div class='votearrow' title='upvote'></div></a></center></td><td class=\"title\"><a href=\"https://techcrunch.com/2019/01/30/googles-also-peddling-a-data-collector-through-apples-back-door/\" class=\"storylink\">Google’s also peddling a data collector through Apple’s back door</a><span class=\"sitebit comhead\"> (<a href=\"from?site=techcrunch.com\"><span class=\"sitestr\">techcrunch.com</span></a>)</span></td></tr><tr><td colspan=\"2\"></td><td class=\"subtext\">\n",
      "        <span class=\"score\" id=\"score_19038258\">594 points</span> by <a href=\"user?id=minimaxir\" class=\"hnuser\">minimaxir</a> <span class=\"age\"><a href=\"item?id=19038258\">17 hours ago</a></span> <span id=\"unv_19038258\"></span> | <a href=\"hide?id=19038258&amp;goto=news\">hide</a> | <a href=\"item?id=19038258\">236&nbsp;comments</a>              </td></tr>\n",
      "      <tr class=\"spacer\" style=\"height:5px\"></tr>\n",
      "                <tr class='athing' id='19042232'>\n",
      "      <td align=\"right\" valign=\"top\" class=\"title\"><span class=\"rank\">17.</span></td>      <td valign=\"top\" class=\"votelinks\"><center><a id='up_19042232' href='vote?id=19042232&amp;how=up&amp;goto=news'><div class='votearrow' title='upvote'></div></a></center></td><td class=\"title\"><a href=\"https://techcrunch.com/2019/01/30/rigetti-launches-the-public-beta-of-its-quantum-cloud-services/\" class=\"storylink\">Rigetti launches the public beta of its Quantum Cloud Services</a><span class=\"sitebit comhead\"> (<a href=\"from?site=techcrunch.com\"><span class=\"sitestr\">techcrunch.com</span></a>)</span></td></tr><tr><td colspan=\"2\"></td><td class=\"subtext\">\n",
      "        <span class=\"score\" id=\"score_19042232\">54 points</span> by <a href=\"user?id=sahin-boydas\" class=\"hnuser\">sahin-boydas</a> <span class=\"age\"><a href=\"item?id=19042232\">9 hours ago</a></span> <span id=\"unv_19042232\"></span> | <a href=\"hide?id=19042232&amp;goto=news\">hide</a> | <a href=\"item?id=19042232\">8&nbsp;comments</a>              </td></tr>\n",
      "      <tr class=\"spacer\" style=\"height:5px\"></tr>\n",
      "                <tr class='athing' id='19029699'>\n",
      "      <td align=\"right\" valign=\"top\" class=\"title\"><span class=\"rank\">18.</span></td>      <td valign=\"top\" class=\"votelinks\"><center><a id='up_19029699' href='vote?id=19029699&amp;how=up&amp;goto=news'><div class='votearrow' title='upvote'></div></a></center></td><td class=\"title\"><a href=\"https://www.theatlantic.com/magazine/archive/2019/03/how-humans-tamed-themselves/580447/\" class=\"storylink\">A New Theory Proposes That Humans Tamed Themselves</a><span class=\"sitebit comhead\"> (<a href=\"from?site=theatlantic.com\"><span class=\"sitestr\">theatlantic.com</span></a>)</span></td></tr><tr><td colspan=\"2\"></td><td class=\"subtext\">\n",
      "        <span class=\"score\" id=\"score_19029699\">37 points</span> by <a href=\"user?id=hacknrk\" class=\"hnuser\">hacknrk</a> <span class=\"age\"><a href=\"item?id=19029699\">7 hours ago</a></span> <span id=\"unv_19029699\"></span> | <a href=\"hide?id=19029699&amp;goto=news\">hide</a> | <a href=\"item?id=19029699\">10&nbsp;comments</a>              </td></tr>\n",
      "      <tr class=\"spacer\" style=\"height:5px\"></tr>\n",
      "                <tr class='athing' id='19034332'>\n",
      "      <td align=\"right\" valign=\"top\" class=\"title\"><span class=\"rank\">19.</span></td>      <td valign=\"top\" class=\"votelinks\"><center><a id='up_19034332' href='vote?id=19034332&amp;how=up&amp;goto=news'><div class='votearrow' title='upvote'></div></a></center></td><td class=\"title\"><a href=\"https://www.amusingplanet.com/2019/01/bookwheel-16th-century-forerunner-to.html\" class=\"storylink\" rel=\"nofollow\">Bookwheel, the 16th Century Forerunner to the EBook Reader</a><span class=\"sitebit comhead\"> (<a href=\"from?site=amusingplanet.com\"><span class=\"sitestr\">amusingplanet.com</span></a>)</span></td></tr><tr><td colspan=\"2\"></td><td class=\"subtext\">\n",
      "        <span class=\"score\" id=\"score_19034332\">4 points</span> by <a href=\"user?id=Clepsydra\" class=\"hnuser\">Clepsydra</a> <span class=\"age\"><a href=\"item?id=19034332\">2 hours ago</a></span> <span id=\"unv_19034332\"></span> | <a href=\"hide?id=19034332&amp;goto=news\">hide</a> | <a href=\"item?id=19034332\">1&nbsp;comment</a>              </td></tr>\n",
      "      <tr class=\"spacer\" style=\"height:5px\"></tr>\n",
      "                <tr class='athing' id='19033694'>\n",
      "      <td align=\"right\" valign=\"top\" class=\"title\"><span class=\"rank\">20.</span></td>      <td valign=\"top\" class=\"votelinks\"><center><a id='up_19033694' href='vote?id=19033694&amp;how=up&amp;goto=news'><div class='votearrow' title='upvote'></div></a></center></td><td class=\"title\"><a href=\"https://arturdryomov.online/posts/superior-testing-stop-stopping/\" class=\"storylink\">Superior Testing: Stop Stopping</a><span class=\"sitebit comhead\"> (<a href=\"from?site=arturdryomov.online\"><span class=\"sitestr\">arturdryomov.online</span></a>)</span></td></tr><tr><td colspan=\"2\"></td><td class=\"subtext\">\n",
      "        <span class=\"score\" id=\"score_19033694\">29 points</span> by <a href=\"user?id=ming13\" class=\"hnuser\">ming13</a> <span class=\"age\"><a href=\"item?id=19033694\">7 hours ago</a></span> <span id=\"unv_19033694\"></span> | <a href=\"hide?id=19033694&amp;goto=news\">hide</a> | <a href=\"item?id=19033694\">20&nbsp;comments</a>              </td></tr>\n",
      "      <tr class=\"spacer\" style=\"height:5px\"></tr>\n",
      "                <tr class='athing' id='19044360'>\n",
      "      <td align=\"right\" valign=\"top\" class=\"title\"><span class=\"rank\">21.</span></td>      <td valign=\"top\" class=\"votelinks\"><center><a id='up_19044360' href='vote?id=19044360&amp;how=up&amp;goto=news'><div class='votearrow' title='upvote'></div></a></center></td><td class=\"title\"><a href=\"https://www.gq.com/story/cal-newport-digital-minimalism\" class=\"storylink\" rel=\"nofollow\">Cal Newport on Why We'll Look Back at Our Smartphones Like Cigarettes</a><span class=\"sitebit comhead\"> (<a href=\"from?site=gq.com\"><span class=\"sitestr\">gq.com</span></a>)</span></td></tr><tr><td colspan=\"2\"></td><td class=\"subtext\">\n",
      "        <span class=\"score\" id=\"score_19044360\">5 points</span> by <a href=\"user?id=dhh2106\" class=\"hnuser\">dhh2106</a> <span class=\"age\"><a href=\"item?id=19044360\">18 minutes ago</a></span> <span id=\"unv_19044360\"></span> | <a href=\"hide?id=19044360&amp;goto=news\">hide</a> | <a href=\"item?id=19044360\">discuss</a>              </td></tr>\n",
      "      <tr class=\"spacer\" style=\"height:5px\"></tr>\n",
      "                <tr class='athing' id='19030517'>\n",
      "      <td align=\"right\" valign=\"top\" class=\"title\"><span class=\"rank\">22.</span></td>      <td valign=\"top\" class=\"votelinks\"><center><a id='up_19030517' href='vote?id=19030517&amp;how=up&amp;goto=news'><div class='votearrow' title='upvote'></div></a></center></td><td class=\"title\"><a href=\"https://artamonoviv.ru/wp-content/uploads/2016/08/Coloured_Petri_Nets_modeling_and_validation_of_concurrent_systems__2009.pdf\" class=\"storylink\">Coloured Petri Nets: Modelling and Validation of Concurrent Systems (2009) [pdf]</a><span class=\"sitebit comhead\"> (<a href=\"from?site=artamonoviv.ru\"><span class=\"sitestr\">artamonoviv.ru</span></a>)</span></td></tr><tr><td colspan=\"2\"></td><td class=\"subtext\">\n",
      "        <span class=\"score\" id=\"score_19030517\">41 points</span> by <a href=\"user?id=boshomi\" class=\"hnuser\">boshomi</a> <span class=\"age\"><a href=\"item?id=19030517\">9 hours ago</a></span> <span id=\"unv_19030517\"></span> | <a href=\"hide?id=19030517&amp;goto=news\">hide</a> | <a href=\"item?id=19030517\">4&nbsp;comments</a>              </td></tr>\n",
      "      <tr class=\"spacer\" style=\"height:5px\"></tr>\n",
      "                <tr class='athing' id='19043613'>\n",
      "      <td align=\"right\" valign=\"top\" class=\"title\"><span class=\"rank\">23.</span></td>      <td valign=\"top\" class=\"votelinks\"><center><a id='up_19043613' href='vote?id=19043613&amp;how=up&amp;goto=news'><div class='votearrow' title='upvote'></div></a></center></td><td class=\"title\"><a href=\"https://hamy.io/post/0010/how-i-lost-my-data-trying-to-back-it-up/\" class=\"storylink\">How I lost my data trying to back it up</a><span class=\"sitebit comhead\"> (<a href=\"from?site=hamy.io\"><span class=\"sitestr\">hamy.io</span></a>)</span></td></tr><tr><td colspan=\"2\"></td><td class=\"subtext\">\n",
      "        <span class=\"score\" id=\"score_19043613\">70 points</span> by <a href=\"user?id=h4myio\" class=\"hnuser\">h4myio</a> <span class=\"age\"><a href=\"item?id=19043613\">3 hours ago</a></span> <span id=\"unv_19043613\"></span> | <a href=\"hide?id=19043613&amp;goto=news\">hide</a> | <a href=\"item?id=19043613\">36&nbsp;comments</a>              </td></tr>\n",
      "      <tr class=\"spacer\" style=\"height:5px\"></tr>\n",
      "                <tr class='athing' id='19035204'>\n",
      "      <td align=\"right\" valign=\"top\" class=\"title\"><span class=\"rank\">24.</span></td>      <td valign=\"top\" class=\"votelinks\"><center><a id='up_19035204' href='vote?id=19035204&amp;how=up&amp;goto=news'><div class='votearrow' title='upvote'></div></a></center></td><td class=\"title\"><a href=\"https://www.nature.com/articles/d41586-019-00236-4\" class=\"storylink\">The first synthetic element</a><span class=\"sitebit comhead\"> (<a href=\"from?site=nature.com\"><span class=\"sitestr\">nature.com</span></a>)</span></td></tr><tr><td colspan=\"2\"></td><td class=\"subtext\">\n",
      "        <span class=\"score\" id=\"score_19035204\">66 points</span> by <a href=\"user?id=pseudolus\" class=\"hnuser\">pseudolus</a> <span class=\"age\"><a href=\"item?id=19035204\">13 hours ago</a></span> <span id=\"unv_19035204\"></span> | <a href=\"hide?id=19035204&amp;goto=news\">hide</a> | <a href=\"item?id=19035204\">2&nbsp;comments</a>              </td></tr>\n",
      "      <tr class=\"spacer\" style=\"height:5px\"></tr>\n",
      "                <tr class='athing' id='19034676'>\n",
      "      <td align=\"right\" valign=\"top\" class=\"title\"><span class=\"rank\">25.</span></td>      <td valign=\"top\" class=\"votelinks\"><center><a id='up_19034676' href='vote?id=19034676&amp;how=up&amp;goto=news'><div class='votearrow' title='upvote'></div></a></center></td><td class=\"title\"><a href=\"https://write.as/blog/ending-our-medium-integration\" class=\"storylink\">Ending our Medium integration</a><span class=\"sitebit comhead\"> (<a href=\"from?site=write.as\"><span class=\"sitestr\">write.as</span></a>)</span></td></tr><tr><td colspan=\"2\"></td><td class=\"subtext\">\n",
      "        <span class=\"score\" id=\"score_19034676\">887 points</span> by <a href=\"user?id=thebaer\" class=\"hnuser\">thebaer</a> <span class=\"age\"><a href=\"item?id=19034676\">1 day ago</a></span> <span id=\"unv_19034676\"></span> | <a href=\"hide?id=19034676&amp;goto=news\">hide</a> | <a href=\"item?id=19034676\">351&nbsp;comments</a>              </td></tr>\n",
      "      <tr class=\"spacer\" style=\"height:5px\"></tr>\n",
      "                <tr class='athing' id='19042490'>\n",
      "      <td align=\"right\" valign=\"top\" class=\"title\"><span class=\"rank\">26.</span></td>      <td valign=\"top\" class=\"votelinks\"><center><a id='up_19042490' href='vote?id=19042490&amp;how=up&amp;goto=news'><div class='votearrow' title='upvote'></div></a></center></td><td class=\"title\"><a href=\"https://lidarmag.com/2019/01/27/elon-musk-is-right-lidar-is-a-crutch/\" class=\"storylink\">Lidar Is a Crutch</a><span class=\"sitebit comhead\"> (<a href=\"from?site=lidarmag.com\"><span class=\"sitestr\">lidarmag.com</span></a>)</span></td></tr><tr><td colspan=\"2\"></td><td class=\"subtext\">\n",
      "        <span class=\"score\" id=\"score_19042490\">71 points</span> by <a href=\"user?id=lawrenceyan\" class=\"hnuser\">lawrenceyan</a> <span class=\"age\"><a href=\"item?id=19042490\">8 hours ago</a></span> <span id=\"unv_19042490\"></span> | <a href=\"hide?id=19042490&amp;goto=news\">hide</a> | <a href=\"item?id=19042490\">68&nbsp;comments</a>              </td></tr>\n",
      "      <tr class=\"spacer\" style=\"height:5px\"></tr>\n",
      "                <tr class='athing' id='19042386'>\n",
      "      <td align=\"right\" valign=\"top\" class=\"title\"><span class=\"rank\">27.</span></td>      <td valign=\"top\" class=\"votelinks\"><center><a id='up_19042386' href='vote?id=19042386&amp;how=up&amp;goto=news'><div class='votearrow' title='upvote'></div></a></center></td><td class=\"title\"><a href=\"https://www.bbc.co.uk/news/stories-47033704\" class=\"storylink\">Why some Japanese pensioners want to go to jail</a><span class=\"sitebit comhead\"> (<a href=\"from?site=bbc.co.uk\"><span class=\"sitestr\">bbc.co.uk</span></a>)</span></td></tr><tr><td colspan=\"2\"></td><td class=\"subtext\">\n",
      "        <span class=\"score\" id=\"score_19042386\">98 points</span> by <a href=\"user?id=pmoriarty\" class=\"hnuser\">pmoriarty</a> <span class=\"age\"><a href=\"item?id=19042386\">8 hours ago</a></span> <span id=\"unv_19042386\"></span> | <a href=\"hide?id=19042386&amp;goto=news\">hide</a> | <a href=\"item?id=19042386\">72&nbsp;comments</a>              </td></tr>\n",
      "      <tr class=\"spacer\" style=\"height:5px\"></tr>\n",
      "                <tr class='athing' id='19040966'>\n",
      "      <td align=\"right\" valign=\"top\" class=\"title\"><span class=\"rank\">28.</span></td>      <td valign=\"top\" class=\"votelinks\"><center><a id='up_19040966' href='vote?id=19040966&amp;how=up&amp;goto=news'><div class='votearrow' title='upvote'></div></a></center></td><td class=\"title\"><a href=\"https://techcrunch.com/2019/01/30/google-for-consumers-will-shut-down-on-april-2nd/\" class=\"storylink\">Google+ for consumers will shut down on April 2nd</a><span class=\"sitebit comhead\"> (<a href=\"from?site=techcrunch.com\"><span class=\"sitestr\">techcrunch.com</span></a>)</span></td></tr><tr><td colspan=\"2\"></td><td class=\"subtext\">\n",
      "        <span class=\"score\" id=\"score_19040966\">132 points</span> by <a href=\"user?id=prostoalex\" class=\"hnuser\">prostoalex</a> <span class=\"age\"><a href=\"item?id=19040966\">13 hours ago</a></span> <span id=\"unv_19040966\"></span> | <a href=\"hide?id=19040966&amp;goto=news\">hide</a> | <a href=\"item?id=19040966\">98&nbsp;comments</a>              </td></tr>\n",
      "      <tr class=\"spacer\" style=\"height:5px\"></tr>\n",
      "                <tr class='athing' id='19038785'>\n",
      "      <td align=\"right\" valign=\"top\" class=\"title\"><span class=\"rank\">29.</span></td>      <td valign=\"top\" class=\"votelinks\"><center><a id='up_19038785' href='vote?id=19038785&amp;how=up&amp;goto=news'><div class='votearrow' title='upvote'></div></a></center></td><td class=\"title\"><a href=\"http://www.openculture.com/2018/07/jean-paul-sartre-bad-mescaline-trip-hallucinated-years-followed-crabs.html\" class=\"storylink\">Jean-Paul Sartre Had a Bad Mescaline Trip (2018)</a><span class=\"sitebit comhead\"> (<a href=\"from?site=openculture.com\"><span class=\"sitestr\">openculture.com</span></a>)</span></td></tr><tr><td colspan=\"2\"></td><td class=\"subtext\">\n",
      "        <span class=\"score\" id=\"score_19038785\">53 points</span> by <a href=\"user?id=lermontov\" class=\"hnuser\">lermontov</a> <span class=\"age\"><a href=\"item?id=19038785\">12 hours ago</a></span> <span id=\"unv_19038785\"></span> | <a href=\"hide?id=19038785&amp;goto=news\">hide</a> | <a href=\"item?id=19038785\">12&nbsp;comments</a>              </td></tr>\n",
      "      <tr class=\"spacer\" style=\"height:5px\"></tr>\n",
      "                <tr class='athing' id='19039927'>\n",
      "      <td align=\"right\" valign=\"top\" class=\"title\"><span class=\"rank\">30.</span></td>      <td valign=\"top\" class=\"votelinks\"><center><a id='up_19039927' href='vote?id=19039927&amp;how=up&amp;goto=news'><div class='votearrow' title='upvote'></div></a></center></td><td class=\"title\"><a href=\"https://lemire.me/blog/2019/01/30/what-is-the-space-overhead-of-base64-encoding/\" class=\"storylink\">What is the space overhead of Base64 encoding?</a><span class=\"sitebit comhead\"> (<a href=\"from?site=lemire.me\"><span class=\"sitestr\">lemire.me</span></a>)</span></td></tr><tr><td colspan=\"2\"></td><td class=\"subtext\">\n",
      "        <span class=\"score\" id=\"score_19039927\">68 points</span> by <a href=\"user?id=ingve\" class=\"hnuser\">ingve</a> <span class=\"age\"><a href=\"item?id=19039927\">15 hours ago</a></span> <span id=\"unv_19039927\"></span> | <a href=\"hide?id=19039927&amp;goto=news\">hide</a> | <a href=\"item?id=19039927\">36&nbsp;comments</a>              </td></tr>\n",
      "      <tr class=\"spacer\" style=\"height:5px\"></tr>\n",
      "            <tr class=\"morespace\" style=\"height:10px\"></tr><tr><td colspan=\"2\"></td><td class=\"title\"><a href=\"news?p=2\" class=\"morelink\" rel=\"nofollow\">More</a></td></tr>\n",
      "  </table>\n",
      "</td></tr>\n",
      "<tr><td><img src=\"s.gif\" height=\"10\" width=\"0\"><table width=\"100%\" cellspacing=\"0\" cellpadding=\"1\"><tr><td bgcolor=\"#ff6600\"></td></tr></table><br><center><a href=\"https://www.ycombinator.com/apply/\">\n",
      "        Applications are open for YC Summer 2019\n",
      "      </a></center><br><center><span class=\"yclinks\"><a href=\"newsguidelines.html\">Guidelines</a>\n",
      "        | <a href=\"newsfaq.html\">FAQ</a>\n",
      "        | <a href=\"mailto:hn@ycombinator.com\">Support</a>\n",
      "        | <a href=\"https://github.com/HackerNews/API\">API</a>\n",
      "        | <a href=\"security.html\">Security</a>\n",
      "        | <a href=\"lists\">Lists</a>\n",
      "        | <a href=\"bookmarklet.html\" rel=\"nofollow\">Bookmarklet</a>\n",
      "        | <a href=\"http://www.ycombinator.com/legal/\">Legal</a>\n",
      "        | <a href=\"http://www.ycombinator.com/apply/\">Apply to YC</a>\n",
      "        | <a href=\"mailto:hn@ycombinator.com\">Contact</a></span><br><br><form method=\"get\" action=\"//hn.algolia.com/\">Search:\n",
      "          <input type=\"text\" name=\"q\" value=\"\" size=\"17\" autocorrect=\"off\" spellcheck=\"false\" autocapitalize=\"off\" autocomplete=\"false\"></form>\n",
      "            </center></td></tr>\n",
      "      </table></center></body><script type='text/javascript' src='hn.js?huDC1fNogcgHwQ4dQ72q'></script>\n",
      "  </html>\n",
      "\n"
     ]
    }
   ],
   "source": [
    "import requests\n",
    "\n",
    "# Fetch a web page\n",
    "r = requests.get(\"https://news.ycombinator.com\")\n",
    "print(r.text)"
   ]
  },
  {
   "cell_type": "code",
   "execution_count": 5,
   "metadata": {},
   "outputs": [
    {
     "name": "stdout",
     "output_type": "stream",
     "text": [
      "\n",
      "            \n",
      "          \n",
      "        Hacker News\n",
      "        \n",
      "                  Hacker News\n",
      "              new | comments | ask | show | jobs | submit            \n",
      "                              login\n",
      "                          \n",
      "              \n",
      "\n",
      "              \n",
      "      1.      Germany, France, Britain to Launch Mechanism for Trade with Iran (reuters.com)\n",
      "        107 points by betahiker 1 hour ago  | hide | 46&nbsp;comments              \n",
      "      \n",
      "                \n",
      "      2.      A.I. Could Worsen Health Disparities (nytimes.com)\n",
      "        8 points by pseudolus 39 minutes ago  | hide | 1&nbsp;comment              \n",
      "      \n",
      "                \n",
      "      3.      U.S. Changes Visa Process for High-Skilled Workers (wsj.com)\n",
      "        325 points by godelmachine 12 hours ago  | hide | 432&nbsp;comments              \n",
      "      \n",
      "                \n",
      "      4.      Racket v7.2 (racket-lang.org)\n",
      "        61 points by ethelward 2 hours ago  | hide | 12&nbsp;comments              \n",
      "      \n",
      "                \n",
      "      5.      A proposed API for full-memory encryption (lwn.net)\n",
      "        3 points by l2dy 22 minutes ago  | hide | discuss              \n",
      "      \n",
      "                \n",
      "      6.      A KGB agent shipped a Sidewinder missile by mail to Moscow (2017) (nationalinterest.org)\n",
      "        66 points by rishabhd 6 hours ago  | hide | 14&nbsp;comments              \n",
      "      \n",
      "                \n",
      "      7.      A Coder Who Became a Crime Boss (wired.com)\n",
      "        45 points by Elof 4 hours ago  | hide | 12&nbsp;comments              \n",
      "      \n",
      "                \n",
      "      8.      Some Fundamental Theorems in Mathematics (arxiv.org)\n",
      "        344 points by postit 16 hours ago  | hide | 54&nbsp;comments              \n",
      "      \n",
      "                \n",
      "      9.      Statistics Done Wrong (statisticsdonewrong.com)\n",
      "        420 points by lawlorino 17 hours ago  | hide | 38&nbsp;comments              \n",
      "      \n",
      "                \n",
      "      10.      How to prepare a Design Thinking workshop for 80 people (eurydice13.com)\n",
      "        32 points by ggeorgovassilis 5 hours ago  | hide | 14&nbsp;comments              \n",
      "      \n",
      "                \n",
      "      11.      Facebook shares shoot up after strong Q4 earnings despite data breach (techcrunch.com)\n",
      "        254 points by deanmoriarty 15 hours ago  | hide | 180&nbsp;comments              \n",
      "      \n",
      "                \n",
      "      12.      Why isn't the internet more fun and weird? (jarredsumner.com)\n",
      "        1288 points by firloop 17 hours ago  | hide | 501&nbsp;comments              \n",
      "      \n",
      "                \n",
      "      13.      Germs and ancient migrations help explain our world of haves and have nots (geneticliteracyproject.org)\n",
      "        12 points by anastalaz 3 hours ago  | hide | 2&nbsp;comments              \n",
      "      \n",
      "                \n",
      "      14.      This is Your Brain Off Facebook - study offers glimpse of unplugging (nytimes.com)\n",
      "        105 points by pseudolus 13 hours ago  | hide | 44&nbsp;comments              \n",
      "      \n",
      "                \n",
      "      15.      Gödel's Theorem (bactra.org)\n",
      "        115 points by bookofjoe 13 hours ago  | hide | 71&nbsp;comments              \n",
      "      \n",
      "                \n",
      "      16.      Google’s also peddling a data collector through Apple’s back door (techcrunch.com)\n",
      "        594 points by minimaxir 17 hours ago  | hide | 236&nbsp;comments              \n",
      "      \n",
      "                \n",
      "      17.      Rigetti launches the public beta of its Quantum Cloud Services (techcrunch.com)\n",
      "        54 points by sahin-boydas 9 hours ago  | hide | 8&nbsp;comments              \n",
      "      \n",
      "                \n",
      "      18.      A New Theory Proposes That Humans Tamed Themselves (theatlantic.com)\n",
      "        37 points by hacknrk 7 hours ago  | hide | 10&nbsp;comments              \n",
      "      \n",
      "                \n",
      "      19.      Bookwheel, the 16th Century Forerunner to the EBook Reader (amusingplanet.com)\n",
      "        4 points by Clepsydra 2 hours ago  | hide | 1&nbsp;comment              \n",
      "      \n",
      "                \n",
      "      20.      Superior Testing: Stop Stopping (arturdryomov.online)\n",
      "        29 points by ming13 7 hours ago  | hide | 20&nbsp;comments              \n",
      "      \n",
      "                \n",
      "      21.      Cal Newport on Why We'll Look Back at Our Smartphones Like Cigarettes (gq.com)\n",
      "        5 points by dhh2106 18 minutes ago  | hide | discuss              \n",
      "      \n",
      "                \n",
      "      22.      Coloured Petri Nets: Modelling and Validation of Concurrent Systems (2009) [pdf] (artamonoviv.ru)\n",
      "        41 points by boshomi 9 hours ago  | hide | 4&nbsp;comments              \n",
      "      \n",
      "                \n",
      "      23.      How I lost my data trying to back it up (hamy.io)\n",
      "        70 points by h4myio 3 hours ago  | hide | 36&nbsp;comments              \n",
      "      \n",
      "                \n",
      "      24.      The first synthetic element (nature.com)\n",
      "        66 points by pseudolus 13 hours ago  | hide | 2&nbsp;comments              \n",
      "      \n",
      "                \n",
      "      25.      Ending our Medium integration (write.as)\n",
      "        887 points by thebaer 1 day ago  | hide | 351&nbsp;comments              \n",
      "      \n",
      "                \n",
      "      26.      Lidar Is a Crutch (lidarmag.com)\n",
      "        71 points by lawrenceyan 8 hours ago  | hide | 68&nbsp;comments              \n",
      "      \n",
      "                \n",
      "      27.      Why some Japanese pensioners want to go to jail (bbc.co.uk)\n",
      "        98 points by pmoriarty 8 hours ago  | hide | 72&nbsp;comments              \n",
      "      \n",
      "                \n",
      "      28.      Google+ for consumers will shut down on April 2nd (techcrunch.com)\n",
      "        132 points by prostoalex 13 hours ago  | hide | 98&nbsp;comments              \n",
      "      \n",
      "                \n",
      "      29.      Jean-Paul Sartre Had a Bad Mescaline Trip (2018) (openculture.com)\n",
      "        53 points by lermontov 12 hours ago  | hide | 12&nbsp;comments              \n",
      "      \n",
      "                \n",
      "      30.      What is the space overhead of Base64 encoding? (lemire.me)\n",
      "        68 points by ingve 15 hours ago  | hide | 36&nbsp;comments              \n",
      "      \n",
      "            More\n",
      "  \n",
      "\n",
      "\n",
      "        Applications are open for YC Summer 2019\n",
      "      Guidelines\n",
      "        | FAQ\n",
      "        | Support\n",
      "        | API\n",
      "        | Security\n",
      "        | Lists\n",
      "        | Bookmarklet\n",
      "        | Legal\n",
      "        | Apply to YC\n",
      "        | ContactSearch:\n",
      "          \n",
      "            \n",
      "      \n",
      "  \n",
      "\n"
     ]
    }
   ],
   "source": [
    "import re\n",
    "\n",
    "# Remove HTML tags using RegEx\n",
    "pattern = re.compile(r'<.*?>')  # tags look like <...>\n",
    "print(pattern.sub('', r.text))  # replace them with blank"
   ]
  },
  {
   "cell_type": "code",
   "execution_count": 6,
   "metadata": {},
   "outputs": [
    {
     "name": "stdout",
     "output_type": "stream",
     "text": [
      "\n",
      "            \n",
      "          \n",
      "        Hacker News\n",
      "        \n",
      "                  Hacker News\n",
      "              new | comments | ask | show | jobs | submit            \n",
      "                              login\n",
      "                          \n",
      "              \n",
      "\n",
      "              \n",
      "      1.      Germany, France, Britain to Launch Mechanism for Trade with Iran (reuters.com)\n",
      "        107 points by betahiker 1 hour ago  | hide | 46 comments              \n",
      "      \n",
      "                \n",
      "      2.      A.I. Could Worsen Health Disparities (nytimes.com)\n",
      "        8 points by pseudolus 39 minutes ago  | hide | 1 comment              \n",
      "      \n",
      "                \n",
      "      3.      U.S. Changes Visa Process for High-Skilled Workers (wsj.com)\n",
      "        325 points by godelmachine 12 hours ago  | hide | 432 comments              \n",
      "      \n",
      "                \n",
      "      4.      Racket v7.2 (racket-lang.org)\n",
      "        61 points by ethelward 2 hours ago  | hide | 12 comments              \n",
      "      \n",
      "                \n",
      "      5.      A proposed API for full-memory encryption (lwn.net)\n",
      "        3 points by l2dy 22 minutes ago  | hide | discuss              \n",
      "      \n",
      "                \n",
      "      6.      A KGB agent shipped a Sidewinder missile by mail to Moscow (2017) (nationalinterest.org)\n",
      "        66 points by rishabhd 6 hours ago  | hide | 14 comments              \n",
      "      \n",
      "                \n",
      "      7.      A Coder Who Became a Crime Boss (wired.com)\n",
      "        45 points by Elof 4 hours ago  | hide | 12 comments              \n",
      "      \n",
      "                \n",
      "      8.      Some Fundamental Theorems in Mathematics (arxiv.org)\n",
      "        344 points by postit 16 hours ago  | hide | 54 comments              \n",
      "      \n",
      "                \n",
      "      9.      Statistics Done Wrong (statisticsdonewrong.com)\n",
      "        420 points by lawlorino 17 hours ago  | hide | 38 comments              \n",
      "      \n",
      "                \n",
      "      10.      How to prepare a Design Thinking workshop for 80 people (eurydice13.com)\n",
      "        32 points by ggeorgovassilis 5 hours ago  | hide | 14 comments              \n",
      "      \n",
      "                \n",
      "      11.      Facebook shares shoot up after strong Q4 earnings despite data breach (techcrunch.com)\n",
      "        254 points by deanmoriarty 15 hours ago  | hide | 180 comments              \n",
      "      \n",
      "                \n",
      "      12.      Why isn't the internet more fun and weird? (jarredsumner.com)\n",
      "        1288 points by firloop 17 hours ago  | hide | 501 comments              \n",
      "      \n",
      "                \n",
      "      13.      Germs and ancient migrations help explain our world of haves and have nots (geneticliteracyproject.org)\n",
      "        12 points by anastalaz 3 hours ago  | hide | 2 comments              \n",
      "      \n",
      "                \n",
      "      14.      This is Your Brain Off Facebook - study offers glimpse of unplugging (nytimes.com)\n",
      "        105 points by pseudolus 13 hours ago  | hide | 44 comments              \n",
      "      \n",
      "                \n",
      "      15.      Gödel's Theorem (bactra.org)\n",
      "        115 points by bookofjoe 13 hours ago  | hide | 71 comments              \n",
      "      \n",
      "                \n",
      "      16.      Google’s also peddling a data collector through Apple’s back door (techcrunch.com)\n",
      "        594 points by minimaxir 17 hours ago  | hide | 236 comments              \n",
      "      \n",
      "                \n",
      "      17.      Rigetti launches the public beta of its Quantum Cloud Services (techcrunch.com)\n",
      "        54 points by sahin-boydas 9 hours ago  | hide | 8 comments              \n",
      "      \n",
      "                \n",
      "      18.      A New Theory Proposes That Humans Tamed Themselves (theatlantic.com)\n",
      "        37 points by hacknrk 7 hours ago  | hide | 10 comments              \n",
      "      \n",
      "                \n",
      "      19.      Bookwheel, the 16th Century Forerunner to the EBook Reader (amusingplanet.com)\n",
      "        4 points by Clepsydra 2 hours ago  | hide | 1 comment              \n",
      "      \n",
      "                \n",
      "      20.      Superior Testing: Stop Stopping (arturdryomov.online)\n",
      "        29 points by ming13 7 hours ago  | hide | 20 comments              \n",
      "      \n",
      "                \n",
      "      21.      Cal Newport on Why We'll Look Back at Our Smartphones Like Cigarettes (gq.com)\n",
      "        5 points by dhh2106 18 minutes ago  | hide | discuss              \n",
      "      \n",
      "                \n",
      "      22.      Coloured Petri Nets: Modelling and Validation of Concurrent Systems (2009) [pdf] (artamonoviv.ru)\n",
      "        41 points by boshomi 9 hours ago  | hide | 4 comments              \n",
      "      \n",
      "                \n",
      "      23.      How I lost my data trying to back it up (hamy.io)\n",
      "        70 points by h4myio 3 hours ago  | hide | 36 comments              \n",
      "      \n",
      "                \n",
      "      24.      The first synthetic element (nature.com)\n",
      "        66 points by pseudolus 13 hours ago  | hide | 2 comments              \n",
      "      \n",
      "                \n",
      "      25.      Ending our Medium integration (write.as)\n",
      "        887 points by thebaer 1 day ago  | hide | 351 comments              \n",
      "      \n",
      "                \n",
      "      26.      Lidar Is a Crutch (lidarmag.com)\n",
      "        71 points by lawrenceyan 8 hours ago  | hide | 68 comments              \n",
      "      \n",
      "                \n",
      "      27.      Why some Japanese pensioners want to go to jail (bbc.co.uk)\n",
      "        98 points by pmoriarty 8 hours ago  | hide | 72 comments              \n",
      "      \n",
      "                \n",
      "      28.      Google+ for consumers will shut down on April 2nd (techcrunch.com)\n",
      "        132 points by prostoalex 13 hours ago  | hide | 98 comments              \n",
      "      \n",
      "                \n",
      "      29.      Jean-Paul Sartre Had a Bad Mescaline Trip (2018) (openculture.com)\n",
      "        53 points by lermontov 12 hours ago  | hide | 12 comments              \n",
      "      \n",
      "                \n",
      "      30.      What is the space overhead of Base64 encoding? (lemire.me)\n",
      "        68 points by ingve 15 hours ago  | hide | 36 comments              \n",
      "      \n",
      "            More\n",
      "  \n",
      "\n",
      "\n",
      "        Applications are open for YC Summer 2019\n",
      "      Guidelines\n",
      "        | FAQ\n",
      "        | Support\n",
      "        | API\n",
      "        | Security\n",
      "        | Lists\n",
      "        | Bookmarklet\n",
      "        | Legal\n",
      "        | Apply to YC\n",
      "        | ContactSearch:\n",
      "          \n",
      "            \n",
      "      \n",
      "  \n",
      "\n"
     ]
    }
   ],
   "source": [
    "from bs4 import BeautifulSoup\n",
    "\n",
    "# Remove HTML tags using Beautiful Soup library\n",
    "soup = BeautifulSoup(r.text, \"html5lib\")\n",
    "print(soup.get_text())"
   ]
  },
  {
   "cell_type": "code",
   "execution_count": 7,
   "metadata": {
    "scrolled": true
   },
   "outputs": [
    {
     "data": {
      "text/plain": [
       "<tr class=\"athing\" id=\"19044034\">\n",
       "      <td align=\"right\" class=\"title\" valign=\"top\"><span class=\"rank\">1.</span></td>      <td class=\"votelinks\" valign=\"top\"><center><a href=\"vote?id=19044034&amp;how=up&amp;goto=news\" id=\"up_19044034\"><div class=\"votearrow\" title=\"upvote\"></div></a></center></td><td class=\"title\"><a class=\"storylink\" href=\"https://www.reuters.com/article/us-iran-usa-sanctions-eu/germany-france-britain-to-launch-mechanism-for-trade-with-iran-idUSKCN1PP0K3\">Germany, France, Britain to Launch Mechanism for Trade with Iran</a><span class=\"sitebit comhead\"> (<a href=\"from?site=reuters.com\"><span class=\"sitestr\">reuters.com</span></a>)</span></td></tr>"
      ]
     },
     "execution_count": 7,
     "metadata": {},
     "output_type": "execute_result"
    }
   ],
   "source": [
    "# Find all articles\n",
    "summaries = soup.find_all(\"tr\", class_=\"athing\")\n",
    "summaries[0]"
   ]
  },
  {
   "cell_type": "code",
   "execution_count": 8,
   "metadata": {},
   "outputs": [
    {
     "data": {
      "text/plain": [
       "'Germany, France, Britain to Launch Mechanism for Trade with Iran'"
      ]
     },
     "execution_count": 8,
     "metadata": {},
     "output_type": "execute_result"
    }
   ],
   "source": [
    "# Extract title\n",
    "summaries[0].find(\"a\", class_=\"storylink\").get_text().strip()"
   ]
  },
  {
   "cell_type": "code",
   "execution_count": 9,
   "metadata": {},
   "outputs": [
    {
     "name": "stdout",
     "output_type": "stream",
     "text": [
      "30 Article summaries found. Sample:\n",
      "Germany, France, Britain to Launch Mechanism for Trade with Iran\n"
     ]
    }
   ],
   "source": [
    "# Find all articles, extract titles\n",
    "articles = []\n",
    "summaries = soup.find_all(\"tr\", class_=\"athing\")\n",
    "for summary in summaries:\n",
    "    title = summary.find(\"a\", class_=\"storylink\").get_text().strip()\n",
    "    articles.append((title))\n",
    "\n",
    "print(len(articles), \"Article summaries found. Sample:\")\n",
    "print(articles[0])"
   ]
  },
  {
   "cell_type": "markdown",
   "metadata": {
    "collapsed": true
   },
   "source": [
    "## Normalization"
   ]
  },
  {
   "cell_type": "markdown",
   "metadata": {},
   "source": [
    "### Case Normalization"
   ]
  },
  {
   "cell_type": "code",
   "execution_count": 10,
   "metadata": {},
   "outputs": [
    {
     "name": "stdout",
     "output_type": "stream",
     "text": [
      "The first time you see The Second Renaissance it may look boring. Look at it at least twice and definitely watch part 2. It will change your view of the matrix. Are the human people the ones who started the war ? Is AI a bad thing ?\n"
     ]
    }
   ],
   "source": [
    "# Sample text\n",
    "text = \"The first time you see The Second Renaissance it may look boring. Look at it at least twice and definitely watch part 2. It will change your view of the matrix. Are the human people the ones who started the war ? Is AI a bad thing ?\"\n",
    "print(text)"
   ]
  },
  {
   "cell_type": "code",
   "execution_count": 11,
   "metadata": {},
   "outputs": [
    {
     "name": "stdout",
     "output_type": "stream",
     "text": [
      "the first time you see the second renaissance it may look boring. look at it at least twice and definitely watch part 2. it will change your view of the matrix. are the human people the ones who started the war ? is ai a bad thing ?\n"
     ]
    }
   ],
   "source": [
    "# Convert to lowercase\n",
    "text = text.lower() \n",
    "print(text)"
   ]
  },
  {
   "cell_type": "markdown",
   "metadata": {},
   "source": [
    "### Punctuation Removal"
   ]
  },
  {
   "cell_type": "code",
   "execution_count": 12,
   "metadata": {},
   "outputs": [
    {
     "name": "stdout",
     "output_type": "stream",
     "text": [
      "the first time you see the second renaissance it may look boring  look at it at least twice and definitely watch part 2  it will change your view of the matrix  are the human people the ones who started the war   is ai a bad thing  \n"
     ]
    }
   ],
   "source": [
    "import re\n",
    "\n",
    "# Remove punctuation characters\n",
    "text = re.sub(r\"[^a-zA-Z0-9]\", \" \", text) \n",
    "print(text)"
   ]
  },
  {
   "cell_type": "markdown",
   "metadata": {},
   "source": [
    "## Tokenization"
   ]
  },
  {
   "cell_type": "code",
   "execution_count": 13,
   "metadata": {},
   "outputs": [
    {
     "name": "stdout",
     "output_type": "stream",
     "text": [
      "['the', 'first', 'time', 'you', 'see', 'the', 'second', 'renaissance', 'it', 'may', 'look', 'boring', 'look', 'at', 'it', 'at', 'least', 'twice', 'and', 'definitely', 'watch', 'part', '2', 'it', 'will', 'change', 'your', 'view', 'of', 'the', 'matrix', 'are', 'the', 'human', 'people', 'the', 'ones', 'who', 'started', 'the', 'war', 'is', 'ai', 'a', 'bad', 'thing']\n"
     ]
    }
   ],
   "source": [
    "# Split text into tokens (words)\n",
    "words = text.split()\n",
    "print(words)"
   ]
  },
  {
   "cell_type": "markdown",
   "metadata": {},
   "source": [
    "### NLTK: Natural Language ToolKit"
   ]
  },
  {
   "cell_type": "code",
   "execution_count": 14,
   "metadata": {},
   "outputs": [],
   "source": [
    "import os\n",
    "import nltk\n",
    "nltk.data.path.append(os.path.join(os.getcwd(), \"nltk_data\"))"
   ]
  },
  {
   "cell_type": "code",
   "execution_count": 15,
   "metadata": {},
   "outputs": [
    {
     "name": "stdout",
     "output_type": "stream",
     "text": [
      "Dr. Smith graduated from the University of Washington. He later started an analytics firm called Lux, which catered to enterprise customers.\n"
     ]
    }
   ],
   "source": [
    "# Another sample text\n",
    "text = \"Dr. Smith graduated from the University of Washington. He later started an analytics firm called Lux, which catered to enterprise customers.\"\n",
    "print(text)"
   ]
  },
  {
   "cell_type": "code",
   "execution_count": 16,
   "metadata": {},
   "outputs": [
    {
     "name": "stdout",
     "output_type": "stream",
     "text": [
      "['Dr.', 'Smith', 'graduated', 'from', 'the', 'University', 'of', 'Washington', '.', 'He', 'later', 'started', 'an', 'analytics', 'firm', 'called', 'Lux', ',', 'which', 'catered', 'to', 'enterprise', 'customers', '.']\n"
     ]
    }
   ],
   "source": [
    "from nltk.tokenize import word_tokenize\n",
    "\n",
    "# Split text into words using NLTK\n",
    "words = word_tokenize(text)\n",
    "print(words)"
   ]
  },
  {
   "cell_type": "code",
   "execution_count": 17,
   "metadata": {},
   "outputs": [
    {
     "name": "stdout",
     "output_type": "stream",
     "text": [
      "['Dr. Smith graduated from the University of Washington.', 'He later started an analytics firm called Lux, which catered to enterprise customers.']\n"
     ]
    }
   ],
   "source": [
    "from nltk.tokenize import sent_tokenize\n",
    "\n",
    "# Split text into sentences\n",
    "sentences = sent_tokenize(text)\n",
    "print(sentences)"
   ]
  },
  {
   "cell_type": "code",
   "execution_count": 18,
   "metadata": {},
   "outputs": [
    {
     "name": "stdout",
     "output_type": "stream",
     "text": [
      "['i', 'me', 'my', 'myself', 'we', 'our', 'ours', 'ourselves', 'you', \"you're\", \"you've\", \"you'll\", \"you'd\", 'your', 'yours', 'yourself', 'yourselves', 'he', 'him', 'his', 'himself', 'she', \"she's\", 'her', 'hers', 'herself', 'it', \"it's\", 'its', 'itself', 'they', 'them', 'their', 'theirs', 'themselves', 'what', 'which', 'who', 'whom', 'this', 'that', \"that'll\", 'these', 'those', 'am', 'is', 'are', 'was', 'were', 'be', 'been', 'being', 'have', 'has', 'had', 'having', 'do', 'does', 'did', 'doing', 'a', 'an', 'the', 'and', 'but', 'if', 'or', 'because', 'as', 'until', 'while', 'of', 'at', 'by', 'for', 'with', 'about', 'against', 'between', 'into', 'through', 'during', 'before', 'after', 'above', 'below', 'to', 'from', 'up', 'down', 'in', 'out', 'on', 'off', 'over', 'under', 'again', 'further', 'then', 'once', 'here', 'there', 'when', 'where', 'why', 'how', 'all', 'any', 'both', 'each', 'few', 'more', 'most', 'other', 'some', 'such', 'no', 'nor', 'not', 'only', 'own', 'same', 'so', 'than', 'too', 'very', 's', 't', 'can', 'will', 'just', 'don', \"don't\", 'should', \"should've\", 'now', 'd', 'll', 'm', 'o', 're', 've', 'y', 'ain', 'aren', \"aren't\", 'couldn', \"couldn't\", 'didn', \"didn't\", 'doesn', \"doesn't\", 'hadn', \"hadn't\", 'hasn', \"hasn't\", 'haven', \"haven't\", 'isn', \"isn't\", 'ma', 'mightn', \"mightn't\", 'mustn', \"mustn't\", 'needn', \"needn't\", 'shan', \"shan't\", 'shouldn', \"shouldn't\", 'wasn', \"wasn't\", 'weren', \"weren't\", 'won', \"won't\", 'wouldn', \"wouldn't\"]\n"
     ]
    }
   ],
   "source": [
    "# List stop words\n",
    "from nltk.corpus import stopwords\n",
    "print(stopwords.words(\"english\"))"
   ]
  },
  {
   "cell_type": "code",
   "execution_count": 19,
   "metadata": {},
   "outputs": [
    {
     "name": "stdout",
     "output_type": "stream",
     "text": [
      "['the', 'first', 'time', 'you', 'see', 'the', 'second', 'renaissance', 'it', 'may', 'look', 'boring', 'look', 'at', 'it', 'at', 'least', 'twice', 'and', 'definitely', 'watch', 'part', '2', 'it', 'will', 'change', 'your', 'view', 'of', 'the', 'matrix', 'are', 'the', 'human', 'people', 'the', 'ones', 'who', 'started', 'the', 'war', 'is', 'ai', 'a', 'bad', 'thing']\n"
     ]
    }
   ],
   "source": [
    "# Reset text\n",
    "text = \"The first time you see The Second Renaissance it may look boring. Look at it at least twice and definitely watch part 2. It will change your view of the matrix. Are the human people the ones who started the war ? Is AI a bad thing ?\"\n",
    "\n",
    "# Normalize it\n",
    "text = re.sub(r\"[^a-zA-Z0-9]\", \" \", text.lower())\n",
    "\n",
    "# Tokenize it\n",
    "words = text.split()\n",
    "print(words)"
   ]
  },
  {
   "cell_type": "code",
   "execution_count": 20,
   "metadata": {},
   "outputs": [
    {
     "name": "stdout",
     "output_type": "stream",
     "text": [
      "['first', 'time', 'see', 'second', 'renaissance', 'may', 'look', 'boring', 'look', 'least', 'twice', 'definitely', 'watch', 'part', '2', 'change', 'view', 'matrix', 'human', 'people', 'ones', 'started', 'war', 'ai', 'bad', 'thing']\n"
     ]
    }
   ],
   "source": [
    "# Remove stop words\n",
    "words = [w for w in words if w not in stopwords.words(\"english\")]\n",
    "print(words)"
   ]
  },
  {
   "cell_type": "markdown",
   "metadata": {},
   "source": [
    "### Sentence Parsing"
   ]
  },
  {
   "cell_type": "code",
   "execution_count": 21,
   "metadata": {},
   "outputs": [
    {
     "name": "stdout",
     "output_type": "stream",
     "text": [
      "(S\n",
      "  (NP I)\n",
      "  (VP\n",
      "    (VP (V shot) (NP (Det an) (N elephant)))\n",
      "    (PP (P in) (NP (Det my) (N pajamas)))))\n",
      "(S\n",
      "  (NP I)\n",
      "  (VP\n",
      "    (V shot)\n",
      "    (NP (Det an) (N elephant) (PP (P in) (NP (Det my) (N pajamas))))))\n"
     ]
    }
   ],
   "source": [
    "import nltk\n",
    "\n",
    "# Define a custom grammar\n",
    "my_grammar = nltk.CFG.fromstring(\"\"\"\n",
    "S -> NP VP\n",
    "PP -> P NP\n",
    "NP -> Det N | Det N PP | 'I'\n",
    "VP -> V NP | VP PP\n",
    "Det -> 'an' | 'my'\n",
    "N -> 'elephant' | 'pajamas'\n",
    "V -> 'shot'\n",
    "P -> 'in'\n",
    "\"\"\")\n",
    "parser = nltk.ChartParser(my_grammar)\n",
    "\n",
    "# Parse a sentence\n",
    "sentence = word_tokenize(\"I shot an elephant in my pajamas\")\n",
    "for tree in parser.parse(sentence):\n",
    "    print(tree)"
   ]
  },
  {
   "cell_type": "markdown",
   "metadata": {},
   "source": [
    "## Stemming & Lemmatization\n",
    "\n",
    "### Stemming"
   ]
  },
  {
   "cell_type": "code",
   "execution_count": 22,
   "metadata": {},
   "outputs": [
    {
     "name": "stdout",
     "output_type": "stream",
     "text": [
      "['first', 'time', 'see', 'second', 'renaiss', 'may', 'look', 'bore', 'look', 'least', 'twice', 'definit', 'watch', 'part', '2', 'chang', 'view', 'matrix', 'human', 'peopl', 'one', 'start', 'war', 'ai', 'bad', 'thing']\n"
     ]
    }
   ],
   "source": [
    "from nltk.stem.porter import PorterStemmer\n",
    "\n",
    "# Reduce words to their stems\n",
    "stemmed = [PorterStemmer().stem(w) for w in words]\n",
    "print(stemmed)"
   ]
  },
  {
   "cell_type": "markdown",
   "metadata": {},
   "source": [
    "### Lemmatization"
   ]
  },
  {
   "cell_type": "code",
   "execution_count": 23,
   "metadata": {},
   "outputs": [
    {
     "name": "stdout",
     "output_type": "stream",
     "text": [
      "['first', 'time', 'see', 'second', 'renaissance', 'may', 'look', 'boring', 'look', 'least', 'twice', 'definitely', 'watch', 'part', '2', 'change', 'view', 'matrix', 'human', 'people', 'one', 'started', 'war', 'ai', 'bad', 'thing']\n"
     ]
    }
   ],
   "source": [
    "from nltk.stem.wordnet import WordNetLemmatizer\n",
    "\n",
    "# Reduce words to their root form\n",
    "lemmed = [WordNetLemmatizer().lemmatize(w) for w in words]\n",
    "print(lemmed)"
   ]
  },
  {
   "cell_type": "code",
   "execution_count": 24,
   "metadata": {},
   "outputs": [
    {
     "name": "stdout",
     "output_type": "stream",
     "text": [
      "['first', 'time', 'see', 'second', 'renaissance', 'may', 'look', 'bore', 'look', 'least', 'twice', 'definitely', 'watch', 'part', '2', 'change', 'view', 'matrix', 'human', 'people', 'one', 'start', 'war', 'ai', 'bad', 'thing']\n"
     ]
    }
   ],
   "source": [
    "# Lemmatize verbs by specifying pos\n",
    "lemmed = [WordNetLemmatizer().lemmatize(w, pos='v') for w in lemmed]\n",
    "print(lemmed)"
   ]
  },
  {
   "cell_type": "code",
   "execution_count": 25,
   "metadata": {},
   "outputs": [
    {
     "data": {
      "text/plain": [
       "sys.version_info(major=3, minor=6, micro=5, releaselevel='final', serial=0)"
      ]
     },
     "execution_count": 25,
     "metadata": {},
     "output_type": "execute_result"
    }
   ],
   "source": [
    "import sys\n",
    "sys.version_info\n"
   ]
  },
  {
   "cell_type": "code",
   "execution_count": null,
   "metadata": {},
   "outputs": [],
   "source": []
  }
 ],
 "metadata": {
  "kernelspec": {
   "display_name": "Python 3",
   "language": "python",
   "name": "python3"
  },
  "language_info": {
   "codemirror_mode": {
    "name": "ipython",
    "version": 3
   },
   "file_extension": ".py",
   "mimetype": "text/x-python",
   "name": "python",
   "nbconvert_exporter": "python",
   "pygments_lexer": "ipython3",
   "version": "3.6.5"
  }
 },
 "nbformat": 4,
 "nbformat_minor": 2
}
